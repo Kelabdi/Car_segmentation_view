{
 "cells": [
  {
   "cell_type": "code",
   "execution_count": null,
   "id": "2757d69d",
   "metadata": {},
   "outputs": [],
   "source": [
    "from os import listdir\n",
    "import pandas as pd\n",
    "import numpy as np\n",
    "import matplotlib.pyplot as plt\n",
    "\n",
    "from mrcnn.utils import Dataset, extract_bboxes\n",
    "from mrcnn.visualize import display_instances\n",
    "from mrcnn.config import Config\n",
    "from mrcnn.model import MaskRCNN\n",
    "\n",
    "import warnings\n",
    "warnings.filterwarnings(action='once')"
   ]
  },
  {
   "cell_type": "markdown",
   "id": "ecbf615a",
   "metadata": {},
   "source": [
    "### Lets read the csv from the dataset"
   ]
  },
  {
   "cell_type": "code",
   "execution_count": null,
   "id": "194c0e9f",
   "metadata": {},
   "outputs": [],
   "source": [
    "\n",
    "df = pd.read_csv(\"datasets/car_object_detection/data/train_solution_bounding_boxes (1).csv\")"
   ]
  },
  {
   "cell_type": "code",
   "execution_count": null,
   "id": "1a04d1dd",
   "metadata": {},
   "outputs": [],
   "source": [
    "df.head()"
   ]
  },
  {
   "cell_type": "code",
   "execution_count": null,
   "id": "ce255b11",
   "metadata": {},
   "outputs": [],
   "source": [
    "# There are 559 images\n",
    "df.shape"
   ]
  },
  {
   "cell_type": "code",
   "execution_count": null,
   "id": "33c4690e",
   "metadata": {},
   "outputs": [],
   "source": [
    "df.nunique()"
   ]
  },
  {
   "cell_type": "code",
   "execution_count": null,
   "id": "ff6550f0",
   "metadata": {},
   "outputs": [],
   "source": [
    "# It looks like there are some images repeated, should be cause in some unique images there are several cars detected\n",
    "df[\"image\"].value_counts()"
   ]
  },
  {
   "cell_type": "code",
   "execution_count": null,
   "id": "a02c3ba8",
   "metadata": {},
   "outputs": [],
   "source": [
    "# Image checking\n",
    "img = plt.imread(\"datasets/car_object_detection/data/training_images/\" + df[\"image\"][27])\n",
    "plt.figure(figsize=(10,5))\n",
    "plt.imshow(img)\n",
    "img.shape"
   ]
  },
  {
   "cell_type": "markdown",
   "id": "3a140578",
   "metadata": {},
   "source": [
    "# 1. Mask R-CNN for car detection and segmentation:\n",
    "The mask-rcnn lib requires to manage the data using the Dataset object (mrcnn.utils.Dataset). \n",
    "Let's create our class with inheritance, we need to use the built-in add_class() and add_image() functions. And also we need to define a function to load the data, for loading the mask and also for loading an image reference.\n"
   ]
  },
  {
   "cell_type": "code",
   "execution_count": null,
   "id": "7f557cc7",
   "metadata": {},
   "outputs": [],
   "source": [
    "# This class defines and loads the car_object_detection Dataset with all the images and bboxes\n",
    "class CarsDataset(Dataset):\n",
    "    \n",
    "    def load_dataset(self, dataset_dir=\"datasets/car_object_detection/data\", mode='train'):\n",
    "        # defining the class and the train/val proportion\n",
    "        self.add_class(\"dataset\",1,\"car\")\n",
    "        \n",
    "        # defining image info with built-in function\n",
    "        if mode=='train':\n",
    "            images_dir = dataset_dir + \"/training_images/\"\n",
    "            for i in range(500):\n",
    "                image_id = df.iloc[i,0]\n",
    "                image_path = images_dir + image_id\n",
    "                self.add_image(\"dataset\", image_id=image_id, path=image_path)\n",
    "        if mode=='val':\n",
    "            images_dir = dataset_dir + \"/training_images/\"\n",
    "            for i in range(500,df.shape[0]):\n",
    "                image_id = df.iloc[i,0]\n",
    "                image_path = images_dir + image_id\n",
    "                self.add_image(\"dataset\", image_id=image_id, path=image_path)\n",
    "        if mode=='test':\n",
    "            images_dir = dataset_dir + \"/testing_images/\"\n",
    "            for filename in listdir(images_dir):\n",
    "                image_id = filename\n",
    "                image_path = images_dir + image_id\n",
    "                self.add_image(\"dataset\", image_id=image_id, path=image_path)\n",
    "                \n",
    "    def extract_boxes(self, image_id):\n",
    "        #get coordinates from bboxes\n",
    "        boxes = []\n",
    "        xmin = int(df[df[\"image\"]==image_id].iloc[0,1])\n",
    "        ymin = int(df[df[\"image\"]==image_id].iloc[0,2])\n",
    "        xmax = int(df[df[\"image\"]==image_id].iloc[0,3])\n",
    "        ymax = int(df[df[\"image\"]==image_id].iloc[0,4])\n",
    "        boxes.append([xmin,ymin,xmax,ymax])\n",
    "        # mrcnn needs the width and height from image values\n",
    "        width = 380\n",
    "        height = 676\n",
    "        return boxes, width, height\n",
    "    \n",
    "    # This defines the mask, as a 2D array, with zeros in all the are, but ones when its detected the bbox\n",
    "    def load_mask(self, image_id):\n",
    "        image = self.image_info[image_id][\"id\"]\n",
    "        boxes, w, h = self.extract_boxes(image)\n",
    "        masks = np.zeros([w, h, len(boxes)], dtype='uint8')\n",
    "        class_ids = []\n",
    "        for i in range(len(boxes)):\n",
    "            box = boxes[i]\n",
    "            # Rows and columns start and end of the array\n",
    "            row_s, row_e = box[1], box[3]\n",
    "            col_s, col_e = box[0], box[2]\n",
    "            masks[row_s:row_e, col_s:col_e, i] = 1\n",
    "            class_ids.append(self.class_names.index('car'))\n",
    "        return masks, np.asarray(class_ids, dtype='int32')\n",
    "    \n",
    "    # This function is responsible for returning the path or URL for a given \"image_id\"\n",
    "    def image_reference(self, image_id):\n",
    "        info = self.image_info[image_id]\n",
    "        return info[\"path\"]\n",
    "    "
   ]
  },
  {
   "cell_type": "markdown",
   "id": "645acaf6",
   "metadata": {},
   "source": [
    "#### Let's load different datasets and convert into the class CarsDataset()"
   ]
  },
  {
   "cell_type": "code",
   "execution_count": null,
   "id": "521e5d86",
   "metadata": {},
   "outputs": [],
   "source": [
    "train = CarsDataset()\n",
    "train.load_dataset(mode=\"train\")\n",
    "train.prepare()\n",
    "\n",
    "test = CarsDataset()\n",
    "test.load_dataset(mode=\"test\")\n",
    "test.prepare()\n",
    "\n",
    "val = CarsDataset()\n",
    "val.load_dataset(mode=\"val\")\n",
    "val.prepare()\n"
   ]
  },
  {
   "cell_type": "markdown",
   "id": "2d69186b",
   "metadata": {},
   "source": [
    "#### Take a look to the images with the train solution bounding boxes turned into masks"
   ]
  },
  {
   "cell_type": "code",
   "execution_count": null,
   "id": "f10788bf",
   "metadata": {},
   "outputs": [],
   "source": [
    "image_id = 27\n",
    "img = train.load_image(image_id)\n",
    "plt.figure(figsize=(10,8))\n",
    "plt.imshow(img)\n",
    "# plotting the mask\n",
    "mask, class_id = train.load_mask(image_id)\n",
    "plt.imshow(mask, cmap=\"gray\", alpha=0.2)\n",
    "plt.axis(\"off\")\n",
    "plt.show()"
   ]
  },
  {
   "cell_type": "code",
   "execution_count": null,
   "id": "bd78608b",
   "metadata": {
    "scrolled": true
   },
   "outputs": [],
   "source": [
    "# Using built-in functions extract_bboxes() and display_instances() to show images\n",
    "bbox = extract_bboxes(mask)\n",
    "display_instances(img, bbox, mask, class_id, train.class_names, figsize=(10,8), show_mask=False)"
   ]
  },
  {
   "cell_type": "markdown",
   "id": "1a0d9fb5",
   "metadata": {},
   "source": [
    "# 2. It's time to TRAIN the Model for Car Detection"
   ]
  },
  {
   "cell_type": "markdown",
   "id": "dc5d3dd6",
   "metadata": {},
   "source": [
    "To train the model on our own dataset we'll need to extend also the Config() class. This class contains the default configuration. We need to subclass it and modify the attributes we need to change."
   ]
  },
  {
   "cell_type": "code",
   "execution_count": null,
   "id": "e1f8426e",
   "metadata": {},
   "outputs": [],
   "source": [
    "# There are a lot of parameters to tweak\n",
    "class CarConfig(Config):\n",
    "    NAME = \"Car\"\n",
    "    # Number of classification classes (including background)\n",
    "    NUM_CLASSES = 2\n",
    "    STEPS_PER_EPOCH = 300\n",
    "    #LEARNING_RATE = 0.002"
   ]
  },
  {
   "cell_type": "code",
   "execution_count": null,
   "id": "cd5dab2f",
   "metadata": {},
   "outputs": [],
   "source": [
    "config = CarConfig()"
   ]
  },
  {
   "cell_type": "code",
   "execution_count": null,
   "id": "929eefe6",
   "metadata": {},
   "outputs": [],
   "source": [
    "# Model with built-in class object\n",
    "model = MaskRCNN(mode=\"training\", model_dir=\"model/\", config=config)"
   ]
  },
  {
   "cell_type": "markdown",
   "id": "51dee291",
   "metadata": {},
   "source": [
    "### Loading weights to the model"
   ]
  },
  {
   "cell_type": "markdown",
   "id": "f5a0e20b",
   "metadata": {},
   "source": [
    "The Mask R-CNN model pre-fit on the MS COCO object detection dataset can be used as a starting point We first need to download the model file (architecture and weights) for the pre-fit Mask R-CNN model from the GitHub project releases https://github.com/matterport/Mask_RCNN/releases/download/v2.0/mask_rcnn_coco.h5"
   ]
  },
  {
   "cell_type": "code",
   "execution_count": null,
   "id": "e519ee78",
   "metadata": {},
   "outputs": [],
   "source": [
    "# we exclude class-specific output layers that we'll define and train with our dataset\n",
    "model.load_weights(\"model/mask_rcnn_coco.h5\", by_name=True, exclude=[\"mrcnn_class_logits\", \"mrcnn_bbox_fc\",  \"mrcnn_bbox\", \"mrcnn_mask\"])"
   ]
  },
  {
   "cell_type": "code",
   "execution_count": null,
   "id": "e4bd506a",
   "metadata": {
    "scrolled": true
   },
   "outputs": [],
   "source": [
    "# Training the model with train and validation data\n",
    "model.train(train, val, learning_rate=config.LEARNING_RATE, epochs=10, layers=\"heads\")"
   ]
  },
  {
   "cell_type": "code",
   "execution_count": null,
   "id": "0729b34e",
   "metadata": {},
   "outputs": [],
   "source": []
  },
  {
   "cell_type": "code",
   "execution_count": null,
   "id": "62543f2b",
   "metadata": {},
   "outputs": [],
   "source": []
  },
  {
   "cell_type": "code",
   "execution_count": null,
   "id": "0e43706b",
   "metadata": {},
   "outputs": [],
   "source": []
  },
  {
   "cell_type": "code",
   "execution_count": null,
   "id": "b3e78683",
   "metadata": {},
   "outputs": [],
   "source": []
  },
  {
   "cell_type": "code",
   "execution_count": null,
   "id": "01cf28a0",
   "metadata": {},
   "outputs": [],
   "source": []
  },
  {
   "cell_type": "code",
   "execution_count": null,
   "id": "f8dbd575",
   "metadata": {},
   "outputs": [],
   "source": []
  },
  {
   "cell_type": "code",
   "execution_count": null,
   "id": "645a22be",
   "metadata": {},
   "outputs": [],
   "source": []
  }
 ],
 "metadata": {
  "kernelspec": {
   "display_name": "Python 3",
   "language": "python",
   "name": "python3"
  },
  "language_info": {
   "codemirror_mode": {
    "name": "ipython",
    "version": 3
   },
   "file_extension": ".py",
   "mimetype": "text/x-python",
   "name": "python",
   "nbconvert_exporter": "python",
   "pygments_lexer": "ipython3",
   "version": "3.6.13"
  }
 },
 "nbformat": 4,
 "nbformat_minor": 5
}

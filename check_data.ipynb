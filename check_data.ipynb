{
 "cells": [
  {
   "cell_type": "code",
   "execution_count": 25,
   "id": "2757d69d",
   "metadata": {},
   "outputs": [],
   "source": [
    "import pandas as pd\n",
    "import numpy as np\n",
    "from mrcnn.utils import Dataset\n",
    "import os"
   ]
  },
  {
   "cell_type": "markdown",
   "id": "ecbf615a",
   "metadata": {},
   "source": [
    "### Lets read the csv from the dataset"
   ]
  },
  {
   "cell_type": "code",
   "execution_count": 5,
   "id": "194c0e9f",
   "metadata": {},
   "outputs": [],
   "source": [
    "\n",
    "df = pd.read_csv(\"datasets/car_object_detection/data/train_solution_bounding_boxes (1).csv\")"
   ]
  },
  {
   "cell_type": "code",
   "execution_count": 6,
   "id": "1a04d1dd",
   "metadata": {},
   "outputs": [
    {
     "data": {
      "text/html": [
       "<div>\n",
       "<style scoped>\n",
       "    .dataframe tbody tr th:only-of-type {\n",
       "        vertical-align: middle;\n",
       "    }\n",
       "\n",
       "    .dataframe tbody tr th {\n",
       "        vertical-align: top;\n",
       "    }\n",
       "\n",
       "    .dataframe thead th {\n",
       "        text-align: right;\n",
       "    }\n",
       "</style>\n",
       "<table border=\"1\" class=\"dataframe\">\n",
       "  <thead>\n",
       "    <tr style=\"text-align: right;\">\n",
       "      <th></th>\n",
       "      <th>image</th>\n",
       "      <th>xmin</th>\n",
       "      <th>ymin</th>\n",
       "      <th>xmax</th>\n",
       "      <th>ymax</th>\n",
       "    </tr>\n",
       "  </thead>\n",
       "  <tbody>\n",
       "    <tr>\n",
       "      <th>0</th>\n",
       "      <td>vid_4_1000.jpg</td>\n",
       "      <td>281.259045</td>\n",
       "      <td>187.035071</td>\n",
       "      <td>327.727931</td>\n",
       "      <td>223.225547</td>\n",
       "    </tr>\n",
       "    <tr>\n",
       "      <th>1</th>\n",
       "      <td>vid_4_10000.jpg</td>\n",
       "      <td>15.163531</td>\n",
       "      <td>187.035071</td>\n",
       "      <td>120.329957</td>\n",
       "      <td>236.430180</td>\n",
       "    </tr>\n",
       "    <tr>\n",
       "      <th>2</th>\n",
       "      <td>vid_4_10040.jpg</td>\n",
       "      <td>239.192475</td>\n",
       "      <td>176.764801</td>\n",
       "      <td>361.968162</td>\n",
       "      <td>236.430180</td>\n",
       "    </tr>\n",
       "    <tr>\n",
       "      <th>3</th>\n",
       "      <td>vid_4_10020.jpg</td>\n",
       "      <td>496.483358</td>\n",
       "      <td>172.363256</td>\n",
       "      <td>630.020260</td>\n",
       "      <td>231.539575</td>\n",
       "    </tr>\n",
       "    <tr>\n",
       "      <th>4</th>\n",
       "      <td>vid_4_10060.jpg</td>\n",
       "      <td>16.630970</td>\n",
       "      <td>186.546010</td>\n",
       "      <td>132.558611</td>\n",
       "      <td>238.386422</td>\n",
       "    </tr>\n",
       "  </tbody>\n",
       "</table>\n",
       "</div>"
      ],
      "text/plain": [
       "             image        xmin        ymin        xmax        ymax\n",
       "0   vid_4_1000.jpg  281.259045  187.035071  327.727931  223.225547\n",
       "1  vid_4_10000.jpg   15.163531  187.035071  120.329957  236.430180\n",
       "2  vid_4_10040.jpg  239.192475  176.764801  361.968162  236.430180\n",
       "3  vid_4_10020.jpg  496.483358  172.363256  630.020260  231.539575\n",
       "4  vid_4_10060.jpg   16.630970  186.546010  132.558611  238.386422"
      ]
     },
     "execution_count": 6,
     "metadata": {},
     "output_type": "execute_result"
    }
   ],
   "source": [
    "df.head()"
   ]
  },
  {
   "cell_type": "code",
   "execution_count": 24,
   "id": "ce255b11",
   "metadata": {},
   "outputs": [
    {
     "data": {
      "text/plain": [
       "(559, 5)"
      ]
     },
     "execution_count": 24,
     "metadata": {},
     "output_type": "execute_result"
    }
   ],
   "source": [
    "# There are 559 images\n",
    "df.shape"
   ]
  },
  {
   "cell_type": "code",
   "execution_count": 10,
   "id": "33c4690e",
   "metadata": {},
   "outputs": [
    {
     "data": {
      "text/plain": [
       "image    355\n",
       "xmin     440\n",
       "ymin     149\n",
       "xmax     438\n",
       "ymax     184\n",
       "dtype: int64"
      ]
     },
     "execution_count": 10,
     "metadata": {},
     "output_type": "execute_result"
    }
   ],
   "source": [
    "df.nunique()"
   ]
  },
  {
   "cell_type": "code",
   "execution_count": 14,
   "id": "ff6550f0",
   "metadata": {},
   "outputs": [
    {
     "data": {
      "text/plain": [
       "vid_4_26460.jpg    7\n",
       "vid_4_6240.jpg     6\n",
       "vid_4_6280.jpg     5\n",
       "vid_4_26380.jpg    5\n",
       "vid_4_26420.jpg    5\n",
       "                  ..\n",
       "vid_4_18840.jpg    1\n",
       "vid_4_18820.jpg    1\n",
       "vid_4_18340.jpg    1\n",
       "vid_4_18360.jpg    1\n",
       "vid_4_9980.jpg     1\n",
       "Name: image, Length: 355, dtype: int64"
      ]
     },
     "execution_count": 14,
     "metadata": {},
     "output_type": "execute_result"
    }
   ],
   "source": [
    "# It looks like there are some images repeated, should be cause in some unique images there are several cars detected\n",
    "df[\"image\"].value_counts()"
   ]
  },
  {
   "cell_type": "markdown",
   "id": "3a140578",
   "metadata": {},
   "source": [
    "## 1.- Mask R-CNN for car detection and segmentation:\n",
    "The mask-rcnn lib requires to manage the data using the Dataset object (mrcnn.utils.Dataset). \n",
    "Let's create our class with inheritance, we need to use the built-in add_class() and add_image() functions. And also we need to define a function to load the data, for loading the mask and also for loading an image reference.\n"
   ]
  },
  {
   "cell_type": "code",
   "execution_count": 29,
   "id": "7f557cc7",
   "metadata": {},
   "outputs": [],
   "source": [
    "# This class defines and loads the car_object_detection Dataset with all the images and bboxes\n",
    "class CarsDataset(Dataset):\n",
    "    \n",
    "    def load_dataset(self, dataset_dir=\"datasets/car_object_detection/data\", mode='train'):\n",
    "        # defining the class and the train/val proportion\n",
    "        self.add_class(\"dataset\",1,\"car\")\n",
    "        \n",
    "        # defining image info with built-in function\n",
    "        if mode=='train':\n",
    "            images_dir = dataset_dir + \"/training_images/\"\n",
    "            for i in range(500):\n",
    "                image_id = df.iloc[i,0]\n",
    "                image_path = images_dir + image_id\n",
    "                self.add_image(\"dataset\", image_id=image_id, path=image_path)\n",
    "        if mode=='val':\n",
    "            images_dir = dataset_dir + \"/training_images/\"\n",
    "            for i in range(500,df.shape[0]):\n",
    "                image_id = df.iloc[i,0]\n",
    "                image_path = images_dir + image_id\n",
    "                self.add_image(\"dataset\", image_id=image_id, path=image_path)\n",
    "        if mode=='test':\n",
    "            images_dir = dataset_dir + \"/testing_images/\"\n",
    "            for filename in listdir(images_dir):\n",
    "                image_id = filename\n",
    "                image_path = images_dir + image_id\n",
    "                self.add_image(\"dataset\", image_id=image_id, path=image_path)\n",
    "                \n",
    "    def extract_boxes(self, image_id):\n",
    "        #get coordinates from bboxes\n",
    "        boxes = []\n",
    "        xmin = int(df[df[\"image\"]==image_id].iloc[0,1])\n",
    "        ymin = int(df[df[\"image\"]==image_id].iloc[0,2])\n",
    "        xmax = int(df[df[\"image\"]==image_id].iloc[0,3])\n",
    "        ymax = int(df[df[\"image\"]==image_id].iloc[0,4])\n",
    "        boxes.append([xmin,ymin,xmax,ymax])\n",
    "        # mrcnn needs the width and height from image values\n",
    "        width = 380\n",
    "        height = 676\n",
    "        return boxes, width, height\n",
    "    \n",
    "    # This defines the mask, as a 2D array, with zeros in all the are, but ones when its detected the bbox\n",
    "    def load_mask(self, image_id):\n",
    "        image = self.image_info[image_id][\"id\"]\n",
    "        boxes, w, h = self.extract_boxes(image)\n",
    "        masks = zeros([w, h, len(boxes)], dtype='uint8')\n",
    "        class_ids = []\n",
    "        for i in range(len(boxes)):\n",
    "            box = boxes[i]\n",
    "            # Rows and columns start and end of the array\n",
    "            row_s, row_e = box[1], box[3]\n",
    "            col_s, col_e = box[0], box[2]\n",
    "            masks[row_s:row_e, col_s,col_e, i] = 1\n",
    "            class_ids.append(self.class_names.index('car'))\n",
    "        return masks, asarray(class_ids, dtype='int32')\n",
    "    \n",
    "    # This function is responsible for returning the path or URL for a given \"image_id\"\n",
    "    def image_reference(self, image_id):\n",
    "        info = self.image_info[image_id]\n",
    "        return info[\"path\"]\n",
    "    "
   ]
  },
  {
   "cell_type": "markdown",
   "id": "645acaf6",
   "metadata": {},
   "source": [
    "#### Now let's load different datasets and train"
   ]
  },
  {
   "cell_type": "code",
   "execution_count": null,
   "id": "521e5d86",
   "metadata": {},
   "outputs": [],
   "source": []
  },
  {
   "cell_type": "code",
   "execution_count": null,
   "id": "aa8c5c77",
   "metadata": {},
   "outputs": [],
   "source": []
  },
  {
   "cell_type": "code",
   "execution_count": null,
   "id": "0e43706b",
   "metadata": {},
   "outputs": [],
   "source": []
  },
  {
   "cell_type": "code",
   "execution_count": null,
   "id": "b3e78683",
   "metadata": {},
   "outputs": [],
   "source": []
  },
  {
   "cell_type": "code",
   "execution_count": null,
   "id": "01cf28a0",
   "metadata": {},
   "outputs": [],
   "source": []
  },
  {
   "cell_type": "code",
   "execution_count": null,
   "id": "f8dbd575",
   "metadata": {},
   "outputs": [],
   "source": []
  },
  {
   "cell_type": "code",
   "execution_count": null,
   "id": "645a22be",
   "metadata": {},
   "outputs": [],
   "source": []
  }
 ],
 "metadata": {
  "kernelspec": {
   "display_name": "Python 3 (ipykernel)",
   "language": "python",
   "name": "python3"
  },
  "language_info": {
   "codemirror_mode": {
    "name": "ipython",
    "version": 3
   },
   "file_extension": ".py",
   "mimetype": "text/x-python",
   "name": "python",
   "nbconvert_exporter": "python",
   "pygments_lexer": "ipython3",
   "version": "3.8.5"
  }
 },
 "nbformat": 4,
 "nbformat_minor": 5
}
